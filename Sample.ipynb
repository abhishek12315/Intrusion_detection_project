{
 "cells": [
  {
   "cell_type": "code",
   "execution_count": 1,
   "id": "d32a751c",
   "metadata": {},
   "outputs": [],
   "source": [
    "import pywt\n",
    "import numpy as np\n",
    "import cv2\n",
    "import matplotlib.pyplot as plt"
   ]
  },
  {
   "cell_type": "code",
   "execution_count": 2,
   "id": "7f20d83e",
   "metadata": {},
   "outputs": [
    {
     "data": {
      "text/plain": [
       "(64, 64, 3)"
      ]
     },
     "execution_count": 2,
     "metadata": {},
     "output_type": "execute_result"
    }
   ],
   "source": [
    "# Load image using OpenCV\n",
    "img = cv2.imread(\"./test_images/grayscale1.png\")\n",
    "np.shape(img)"
   ]
  },
  {
   "cell_type": "code",
   "execution_count": 3,
   "id": "521a7e83",
   "metadata": {},
   "outputs": [
    {
     "data": {
      "text/plain": [
       "<matplotlib.image.AxesImage at 0x19c760bc520>"
      ]
     },
     "execution_count": 3,
     "metadata": {},
     "output_type": "execute_result"
    },
    {
     "data": {
      "image/png": "[encoded data removed]",
      "text/plain": [
       "<Figure size 640x480 with 1 Axes>"
      ]
     },
     "metadata": {},
     "output_type": "display_data"
    }
   ],
   "source": [
    "img = cv2.resize(img, (32,32))\n",
    "plt.imshow(img)"
   ]
  },
  {
   "cell_type": "code",
   "execution_count": 8,
   "id": "96b59cbf",
   "metadata": {},
   "outputs": [
    {
     "data": {
      "text/plain": [
       "(32, 32)"
      ]
     },
     "execution_count": 8,
     "metadata": {},
     "output_type": "execute_result"
    }
   ],
   "source": [
    "img1 = cv2.imread(\"./test_images/grayscale1.png\", cv2.IMREAD_GRAYSCALE)\n",
    "img1 = cv2.resize(img1, (32,32))\n",
    "np.shape(img1)"
   ]
  },
  {
   "cell_type": "code",
   "execution_count": 9,
   "id": "2c584641",
   "metadata": {},
   "outputs": [
    {
     "data": {
      "text/plain": [
       "<matplotlib.image.AxesImage at 0x19c7834aa90>"
      ]
     },
     "execution_count": 9,
     "metadata": {},
     "output_type": "execute_result"
    },
    {
     "data": {
      "image/png": "[encoded data removed]",
      "text/plain": [
       "<Figure size 640x480 with 1 Axes>"
      ]
     },
     "metadata": {},
     "output_type": "display_data"
    }
   ],
   "source": [
    "plt.imshow(img1)"
   ]
  },
  {
   "cell_type": "code",
   "execution_count": 19,
   "id": "128e220e",
   "metadata": {},
   "outputs": [],
   "source": [
    "# Decompose image using DWT\n",
    "coeffs = pywt.wavedec2(img1, 'haar', level=1)"
   ]
  },
  {
   "cell_type": "code",
   "execution_count": 20,
   "id": "46e250b7",
   "metadata": {},
   "outputs": [],
   "source": [
    "# Extract statistical features from DWT coefficients\n",
    "from scipy.stats import skew, kurtosis\n",
    "mean_coeffs = np.mean(coeffs, axis=0)\n",
    "var_coeffs = np.var(coeffs, axis=0)\n"
   ]
  },
  {
   "cell_type": "code",
   "execution_count": 21,
   "id": "cdef1adb",
   "metadata": {},
   "outputs": [
    {
     "data": {
      "text/plain": [
       "[array([[118. , 136. , 115. , 129. , 132. , 120.5, 115.5, 101.5, 136. ,\n",
       "         127.5, 126. , 119.5, 111. , 125. , 110. , 139.5],\n",
       "        [ 99. , 123.5, 153. ,  83.5, 113.5, 152.5, 143. , 119.5,  97. ,\n",
       "         163. , 144.5,  64. ,  98. , 127. , 109.5,  61.5],\n",
       "        [150. , 130. , 123. , 134.5, 143.5, 113. ,  84. , 111. , 156.5,\n",
       "          97.5, 111. , 139.5, 143. ,  59.5,  82.5, 147.5],\n",
       "        [ 40. , 111. , 201. , 113. ,  46.5, 102.5,  65.5,  42.5,  92.5,\n",
       "         160. , 133. ,  98.5,  74.5, 105.5,  49. ,  39. ],\n",
       "        [ 57.5,  63.5,  74.5,  71.5,  63.5,  57.5,  66. ,  53. ,  74. ,\n",
       "          59.5,  82. ,  74. ,  70. ,  56. ,  97. ,  96.5],\n",
       "        [ 25. ,  69. ,  58. , 119.5,  70. ,  51.5,  61.5,  46.5,  60. ,\n",
       "          64.5,  42.5,  70. ,  29. ,  57. ,  53. ,  51. ],\n",
       "        [ 75.5,  59.5,  47.5,  51. ,  78. ,  48. ,  70. ,  53. ,  95.5,\n",
       "          94.5,  77.5,  44.5,  47.5,  58.5,  67. ,  69.5],\n",
       "        [ 59.5,  67.5,  64.5,  40. ,  73. ,  48.5,  71.5,  79.5, 114. ,\n",
       "          53. ,  56. ,  94. ,  59. ,  65. ,  68. ,  55. ],\n",
       "        [ 60.5,  39.5, 105. ,  96. ,  91.5,  61.5,  72.5, 101.5, 102. ,\n",
       "          82. ,  50.5,  90.5,  62. , 141. ,  74.5,  61. ],\n",
       "        [ 84. ,  70.5,  74. ,  61. ,  85. ,  36.5,  94.5, 107.5,  46. ,\n",
       "          69.5,  70.5,  66.5,  71. ,  62. ,  71. ,  60.5],\n",
       "        [ 80.5,  63.5,  89. ,  75. ,  68. , 100.5,  61. , 114. ,  70. ,\n",
       "          63.5,  74.5,  84.5,  96.5,  85. ,  58.5,  25. ],\n",
       "        [ 67. ,  59. , 111. , 106.5,  83. , 107.5,  44.5,  55. ,  51. ,\n",
       "          73. ,  61.5,  52.5,  52.5,  73.5,  67.5,  58. ],\n",
       "        [198.5, 172.5, 185.5, 173.5, 175. , 198. , 175.5, 186. , 193. ,\n",
       "         188. , 202.5, 192.5, 190.5, 196. , 184.5, 173. ],\n",
       "        [174. , 169.5, 177. , 186. , 186. , 190.5, 182.5, 186. , 205. ,\n",
       "         191. , 188.5, 204.5, 191.5, 192. , 196. , 188.5],\n",
       "        [161. , 148.5, 159. , 177.5, 153. , 168. , 158.5, 129. , 165.5,\n",
       "         201.5, 163. , 167.5, 153.5, 149. , 151. , 165.5],\n",
       "        [196.5, 172.5, 151. , 159.5, 116. , 148.5, 150. , 197. , 158. ,\n",
       "         214.5, 143. , 179.5, 140. ,  81.5, 124.5, 178. ]]),\n",
       " (array([[ 7.90000000e+01, -2.60000000e+01,  5.90000000e+01,\n",
       "          -2.20000000e+01,  4.40000000e+01,  1.95000000e+01,\n",
       "           2.95000000e+01,  9.50000000e+00,  2.20000000e+01,\n",
       "           5.55000000e+01,  1.40000000e+01,  5.15000000e+01,\n",
       "           3.00000000e+00,  5.90000000e+01, -4.00000000e+00,\n",
       "           7.05000000e+01],\n",
       "         [ 9.00000000e+00, -5.55000000e+01, -4.00000000e+00,\n",
       "          -3.95000000e+01, -2.55000000e+01, -3.95000000e+01,\n",
       "          -1.40000000e+01,  4.05000000e+01, -6.50000000e+01,\n",
       "          -4.10000000e+01, -2.75000000e+01,  5.60000000e+01,\n",
       "          -8.10000000e+01,  1.00000000e+00, -4.25000000e+01,\n",
       "           3.05000000e+01],\n",
       "         [ 3.80000000e+01,  1.80000000e+01,  1.00000000e+00,\n",
       "          -6.50000000e+00,  2.45000000e+01,  2.10000000e+01,\n",
       "           1.80000000e+01,  6.40000000e+01,  1.85000000e+01,\n",
       "           1.75000000e+01, -3.30000000e+01,  4.55000000e+01,\n",
       "           9.00000000e+00,  1.05000000e+01, -2.50000000e+00,\n",
       "           3.15000000e+01],\n",
       "         [-2.10000000e+01,  5.80000000e+01,  7.60000000e+01,\n",
       "           2.10000000e+01, -6.50000000e+00,  1.05000000e+01,\n",
       "           7.50000000e+00, -4.25000000e+01,  1.05000000e+01,\n",
       "           6.20000000e+01,  7.10000000e+01,  3.45000000e+01,\n",
       "          -1.45000000e+01,  4.95000000e+01, -1.60000000e+01,\n",
       "          -1.20000000e+01],\n",
       "         [-5.50000000e+00, -1.95000000e+01,  1.05000000e+01,\n",
       "          -5.50000000e+00, -1.95000000e+01, -1.75000000e+01,\n",
       "           7.00000000e+00,  1.10000000e+01,  1.00000000e+00,\n",
       "           1.85000000e+01,  1.10000000e+01,  1.80000000e+01,\n",
       "           2.90000000e+01,  2.80000000e+01, -2.00000000e+01,\n",
       "          -4.50000000e+00],\n",
       "         [ 1.10000000e+01,  3.80000000e+01,  8.00000000e+00,\n",
       "          -5.50000000e+00,  2.10000000e+01,  1.55000000e+01,\n",
       "           1.25000000e+01,  2.50000000e+00, -2.30000000e+01,\n",
       "           4.50000000e+00,  1.05000000e+01, -2.10000000e+01,\n",
       "           3.00000000e+00,  4.00000000e+00, -1.90000000e+01,\n",
       "           1.50000000e+01],\n",
       "         [-1.55000000e+01,  9.50000000e+00,  1.35000000e+01,\n",
       "           1.30000000e+01,  2.50000000e+01, -2.20000000e+01,\n",
       "          -1.10000000e+01,  1.10000000e+01,  2.55000000e+01,\n",
       "           4.50000000e+00, -1.65000000e+01, -5.00000000e-01,\n",
       "           8.50000000e+00, -5.00000000e-01, -1.10000000e+01,\n",
       "          -3.50000000e+00],\n",
       "         [ 6.50000000e+00,  3.45000000e+01,  4.05000000e+01,\n",
       "           9.00000000e+00,  1.60000000e+01,  7.50000000e+00,\n",
       "          -2.15000000e+01, -2.75000000e+01,  3.20000000e+01,\n",
       "           4.00000000e+00,  2.30000000e+01,  1.00000000e+01,\n",
       "           7.00000000e+00,  8.00000000e+00,  1.50000000e+01,\n",
       "           2.00000000e+01],\n",
       "         [ 7.50000000e+00, -1.50000000e+00, -2.80000000e+01,\n",
       "          -3.00000000e+00, -1.15000000e+01, -1.50000000e+00,\n",
       "           2.50000000e+00,  1.50000000e+00,  3.10000000e+01,\n",
       "          -3.55271368e-15, -2.50000000e+00,  1.05000000e+01,\n",
       "           8.00000000e+00, -1.20000000e+01, -1.45000000e+01,\n",
       "          -1.40000000e+01],\n",
       "         [ 6.00000000e+00,  4.65000000e+01,  5.10000000e+01,\n",
       "           2.50000000e+01,  4.00000000e+00,  1.55000000e+01,\n",
       "           4.75000000e+01, -6.50000000e+00,  6.00000000e+00,\n",
       "           4.50000000e+00,  5.00000000e-01,  1.15000000e+01,\n",
       "           3.20000000e+01, -3.00000000e+00,  3.30000000e+01,\n",
       "          -4.50000000e+00],\n",
       "         [ 5.50000000e+00,  5.00000000e-01, -1.70000000e+01,\n",
       "           1.50000000e+01, -2.00000000e+01, -2.50000000e+00,\n",
       "           1.40000000e+01,  1.50000000e+01, -1.40000000e+01,\n",
       "          -1.65000000e+01,  4.50000000e+00, -2.65000000e+01,\n",
       "          -1.95000000e+01,  1.10000000e+01, -1.15000000e+01,\n",
       "          -1.30000000e+01],\n",
       "         [ 1.40000000e+01,  4.00000000e+00, -3.60000000e+01,\n",
       "           1.55000000e+01, -2.50000000e+01,  2.05000000e+01,\n",
       "          -2.15000000e+01, -2.00000000e+00,  1.80000000e+01,\n",
       "           1.70000000e+01,  1.65000000e+01,  5.50000000e+00,\n",
       "           2.25000000e+01,  1.65000000e+01,  3.45000000e+01,\n",
       "          -2.20000000e+01],\n",
       "         [ 1.45000000e+01,  8.50000000e+00,  6.50000000e+00,\n",
       "           1.95000000e+01, -4.44089210e-15, -1.30000000e+01,\n",
       "           6.50000000e+00,  8.00000000e+00,  7.00000000e+00,\n",
       "          -8.00000000e+00,  3.15000000e+01,  5.00000000e-01,\n",
       "          -5.50000000e+00, -5.00000000e+00,  1.50000000e+00,\n",
       "           2.50000000e+01],\n",
       "         [ 7.00000000e+00,  3.15000000e+01,  2.00000000e+00,\n",
       "          -1.30000000e+01, -1.30000000e+01, -4.50000000e+00,\n",
       "          -8.50000000e+00, -1.50000000e+01,  1.01030295e-14,\n",
       "          -7.00000000e+00,  5.50000000e+00, -5.00000000e-01,\n",
       "          -1.95000000e+01, -1.30000000e+01, -1.60000000e+01,\n",
       "          -4.50000000e+00],\n",
       "         [ 4.80000000e+01,  1.75000000e+01,  3.50000000e+01,\n",
       "           2.35000000e+01,  2.50000000e+01,  1.90000000e+01,\n",
       "           1.45000000e+01,  5.20000000e+01,  7.50000000e+00,\n",
       "           5.00000000e-01, -4.00000000e+00,  2.25000000e+01,\n",
       "           1.55000000e+01,  3.00000000e+00,  2.20000000e+01,\n",
       "           4.25000000e+01],\n",
       "         [ 2.25000000e+01, -1.85000000e+01, -9.00000000e+00,\n",
       "           6.50000000e+00, -3.80000000e+01, -1.25000000e+01,\n",
       "          -1.00000000e+01, -1.80000000e+01,  3.10000000e+01,\n",
       "           1.85000000e+01, -1.20000000e+01, -1.85000000e+01,\n",
       "           5.32907052e-15, -3.05000000e+01, -8.50000000e+00,\n",
       "           4.30000000e+01]]),\n",
       "  array([[ 15. ,   7. ,   2. ,   6. ,  -3. , -36.5,   6.5, -13.5,   5. ,\n",
       "          -32.5,  25. , -17.5,  15. ,  -1. ,  13. ,  -6.5],\n",
       "         [ 32. ,  56.5,  58. ,  29.5, -35.5, -77.5, -50. , -59.5, -40. ,\n",
       "          -84. , -63.5, -18. ,  17. ,  51. ,  43.5,   6.5],\n",
       "         [ 65. ,  67. ,  36. , -25.5, -19.5, -17. , -14. , -64. , -48.5,\n",
       "          -42.5, -19. ,   0.5,  37. ,  10.5,  31.5,  73.5],\n",
       "         [-11. ,   8. ,  48. ,  59. ,  -9.5,   7.5,  33.5,  -5.5, -28.5,\n",
       "          -58. ,  19. ,  12.5,  11.5,  34.5,  26. ,   4. ],\n",
       "         [ -6.5,  26.5,  18.5,  12.5,   6.5,  -5.5, -47. , -12. , -21. ,\n",
       "          -22.5, -35. , -22. , -20. ,  20. ,  12. ,  47.5],\n",
       "         [ -8. ,  23. ,  -3. ,  30.5,  17. , -15.5,  -9.5, -20.5, -35. ,\n",
       "          -10.5, -19.5,   2. ,  -5. ,   6. ,  -1. ,  -6. ],\n",
       "         [ 11.5,  22.5,   3.5,  -1. , -31. ,  11. ,   6. , -24. , -67.5,\n",
       "          -49.5, -29.5,  -9.5,  -5.5,  21.5,  25. ,  14.5],\n",
       "         [ 19.5,  35.5,  38.5,  14. ,  16. , -15.5, -16.5,   9.5, -47. ,\n",
       "           -8. , -20. , -37. ,  17. ,   4. ,  35. ,   8. ],\n",
       "         [ 29.5,  20.5,  43. ,  -5. ,  -5.5, -18.5, -18.5, -14.5, -39. ,\n",
       "          -14. ,  -0.5,  -8.5,  14. ,   5. ,  16.5,  12. ],\n",
       "         [  9. ,  20.5,  12. ,   8. ,  17. ,  -7.5, -48.5, -48.5, -18. ,\n",
       "           -1.5,  -3.5, -21.5,  18. ,   1. ,  34. ,  15.5],\n",
       "         [ 46.5,  28.5,  43. , -32. , -14. , -34.5, -25. , -23. ,  -4. ,\n",
       "            1.5, -41.5,  -4.5,  16.5,  36. ,  21.5,  15. ],\n",
       "         [ 22. ,   1. ,  49. , -54.5,  12. , -35.5,   1.5, -34. , -17. ,\n",
       "          -31. ,  12.5, -19.5,   2.5, -28.5,   6.5, -18. ],\n",
       "         [  2.5,  18.5,   0.5,  -0.5,   4. ,   9. ,  -5.5,   5. ,  -9. ,\n",
       "           16. , -40.5,   0.5,  -7.5, -11. ,  -3.5, -20. ],\n",
       "         [  9. ,  -5.5, -19. ,  -3. ,   2. ,   2.5,   5.5,  -8. ,   2. ,\n",
       "            3. ,  16.5,  -0.5,  -2.5,  -3. ,  -7. ,  -3.5],\n",
       "         [ -5. ,  11.5,   5. ,   2.5, -14. ,  -9. ,   3.5, -14. ,  21.5,\n",
       "           19.5, -22. ,  14.5,   3.5,  16. , -18. , -11.5],\n",
       "         [ 34.5,  -2.5, -63. ,  -6.5,   5. , -56.5,  29. ,  64. ,  26. ,\n",
       "          -35.5, -12. , -16.5, -13. ,   8.5, -25.5, -34. ]]),\n",
       "  array([[-6.00000000e+00, -4.10000000e+01,  3.55271368e-15,\n",
       "          -3.50000000e+01,  2.10000000e+01, -4.15000000e+01,\n",
       "           2.65000000e+01, -1.55000000e+01,  3.70000000e+01,\n",
       "          -4.45000000e+01,  3.10000000e+01, -1.75000000e+01,\n",
       "           2.10000000e+01, -1.50000000e+01,  3.00000000e+00,\n",
       "          -1.35000000e+01],\n",
       "         [ 2.00000000e+01, -5.25000000e+01,  2.50000000e+01,\n",
       "          -1.15000000e+01,  4.55000000e+01,  6.50000000e+00,\n",
       "           1.10000000e+01, -3.85000000e+01,  5.00000000e+01,\n",
       "           2.20000000e+01,  2.05000000e+01, -2.00000000e+01,\n",
       "          -1.00000000e+01, -1.10000000e+01, -1.65000000e+01,\n",
       "           2.55000000e+01],\n",
       "         [ 2.90000000e+01,  1.70000000e+01,  2.60000000e+01,\n",
       "          -2.45000000e+01,  2.55000000e+01, -3.90000000e+01,\n",
       "           1.40000000e+01, -5.10000000e+01, -3.25000000e+01,\n",
       "          -1.25000000e+01,  7.00000000e+00, -7.50000000e+00,\n",
       "           1.90000000e+01, -1.05000000e+01, -1.50000000e+00,\n",
       "           2.75000000e+01],\n",
       "         [-8.00000000e+00, -2.10000000e+01,  1.30000000e+01,\n",
       "           5.00000000e+00, -1.05000000e+01,  3.50000000e+00,\n",
       "           2.95000000e+01,  5.50000000e+00,  5.50000000e+00,\n",
       "          -1.80000000e+01,  3.30000000e+01,  3.05000000e+01,\n",
       "          -1.55000000e+01,  2.45000000e+01, -7.00000000e+00,\n",
       "          -1.00000000e+00],\n",
       "         [ 1.45000000e+01, -2.25000000e+01,  1.25000000e+01,\n",
       "           9.50000000e+00, -4.50000000e+00, -2.05000000e+01,\n",
       "          -4.00000000e+00,  8.00000000e+00, -4.00000000e+00,\n",
       "          -1.75000000e+01, -2.00000000e+00, -8.00000000e+00,\n",
       "          -1.50000000e+01,  1.40000000e+01,  3.10000000e+01,\n",
       "           1.45000000e+01],\n",
       "         [-4.00000000e+00,  1.60000000e+01, -4.10000000e+01,\n",
       "          -2.05000000e+01,  1.00000000e+01, -7.50000000e+00,\n",
       "          -3.25000000e+01, -2.25000000e+01,  8.00000000e+00,\n",
       "          -2.45000000e+01,  2.50000000e+00,  5.00000000e+00,\n",
       "           1.50000000e+01, -1.90000000e+01,  5.00000000e+00,\n",
       "           2.00000000e+01],\n",
       "         [ 1.85000000e+01, -1.55000000e+01,  1.15000000e+01,\n",
       "           2.30000000e+01, -4.20000000e+01, -1.00000000e+00,\n",
       "          -2.10000000e+01, -8.00000000e+00, -1.55000000e+01,\n",
       "           1.65000000e+01,  1.45000000e+01, -3.05000000e+01,\n",
       "           1.35000000e+01, -1.35000000e+01,  1.10000000e+01,\n",
       "           3.50000000e+00],\n",
       "         [ 5.00000000e-01,  2.65000000e+01,  2.85000000e+01,\n",
       "           1.10000000e+01, -1.00000000e+00, -8.50000000e+00,\n",
       "          -2.55000000e+01, -1.75000000e+01,  7.00000000e+00,\n",
       "           1.10000000e+01, -1.30000000e+01, -1.10000000e+01,\n",
       "          -1.50000000e+01,  9.00000000e+00, -1.00000000e+01,\n",
       "           1.50000000e+01],\n",
       "         [ 1.85000000e+01, -5.00000000e-01, -1.20000000e+01,\n",
       "           2.00000000e+01,  9.50000000e+00,  8.50000000e+00,\n",
       "          -6.50000000e+00,  7.50000000e+00, -1.20000000e+01,\n",
       "           1.80000000e+01,  8.50000000e+00,  1.15000000e+01,\n",
       "          -2.80000000e+01, -3.40000000e+01, -5.00000000e-01,\n",
       "           5.00000000e+00],\n",
       "         [ 1.70000000e+01,  1.45000000e+01,  2.30000000e+01,\n",
       "          -1.40000000e+01, -1.60000000e+01,  5.50000000e+00,\n",
       "          -3.75000000e+01,  1.55000000e+01,  8.00000000e+00,\n",
       "           3.50000000e+00,  3.65000000e+01, -2.45000000e+01,\n",
       "           2.10000000e+01, -6.00000000e+00,  4.20000000e+01,\n",
       "          -2.15000000e+01],\n",
       "         [ 7.50000000e+00, -1.85000000e+01,  2.30000000e+01,\n",
       "           4.00000000e+00,  6.00000000e+00, -1.95000000e+01,\n",
       "           1.77635684e-15, -2.00000000e+00,  2.20000000e+01,\n",
       "           2.15000000e+01,  2.05000000e+01,  2.65000000e+01,\n",
       "          -1.95000000e+01, -2.00000000e+00, -5.00000000e-01,\n",
       "          -5.00000000e+00],\n",
       "         [-9.00000000e+00, -3.40000000e+01,  1.00000000e+01,\n",
       "           2.50000000e+00, -3.80000000e+01,  2.15000000e+01,\n",
       "          -4.50000000e+00,  5.00000000e+00, -1.20000000e+01,\n",
       "          -3.00000000e+00,  1.50000000e+00,  9.50000000e+00,\n",
       "           1.45000000e+01,  2.65000000e+01,  2.35000000e+01,\n",
       "           1.00000000e+01],\n",
       "         [ 2.50000000e+00,  1.25000000e+01,  1.55000000e+01,\n",
       "           1.35000000e+01, -9.00000000e+00,  2.00000000e+00,\n",
       "           1.50000000e+00,  9.00000000e+00,  9.00000000e+00,\n",
       "           1.00000000e+01, -3.50000000e+00,  5.00000000e-01,\n",
       "          -1.75000000e+01,  2.00000000e+00, -5.00000000e-01,\n",
       "          -1.00000000e+01],\n",
       "         [-4.00000000e+00, -5.50000000e+00,  6.00000000e+00,\n",
       "          -2.00000000e+00,  3.00000000e+00, -6.50000000e+00,\n",
       "          -5.50000000e+00, -1.00000000e+00,  1.00000000e+00,\n",
       "           3.00000000e+00,  5.50000000e+00,  5.00000000e-01,\n",
       "          -1.50000000e+00, -6.00000000e+00, -3.00000000e+00,\n",
       "           3.50000000e+00],\n",
       "         [-2.00000000e+00,  1.85000000e+01,  1.00000000e+00,\n",
       "          -2.15000000e+01, -2.00000000e+01,  1.40000000e+01,\n",
       "          -8.50000000e+00,  1.50000000e+01,  1.50000000e+00,\n",
       "          -1.95000000e+01,  9.00000000e+00,  7.50000000e+00,\n",
       "           2.35000000e+01,  2.40000000e+01, -1.30000000e+01,\n",
       "           1.55000000e+01],\n",
       "         [-2.15000000e+01, -2.15000000e+01,  2.70000000e+01,\n",
       "           1.05000000e+01,  9.00000000e+00, -5.35000000e+01,\n",
       "           3.50000000e+01,  4.10000000e+01,  9.00000000e+00,\n",
       "           3.85000000e+01,  3.10000000e+01, -6.65000000e+01,\n",
       "           9.00000000e+00,  2.50000000e+00, -1.85000000e+01,\n",
       "          -9.00000000e+00]]))]"
      ]
     },
     "execution_count": 21,
     "metadata": {},
     "output_type": "execute_result"
    }
   ],
   "source": [
    "coeffs"
   ]
  },
  {
   "cell_type": "code",
   "execution_count": 22,
   "id": "7f2ea4f2",
   "metadata": {},
   "outputs": [
    {
     "data": {
      "text/plain": [
       "array([[118. , 136. , 115. , 129. , 132. , 120.5, 115.5, 101.5, 136. ,\n",
       "        127.5, 126. , 119.5, 111. , 125. , 110. , 139.5],\n",
       "       [ 99. , 123.5, 153. ,  83.5, 113.5, 152.5, 143. , 119.5,  97. ,\n",
       "        163. , 144.5,  64. ,  98. , 127. , 109.5,  61.5],\n",
       "       [150. , 130. , 123. , 134.5, 143.5, 113. ,  84. , 111. , 156.5,\n",
       "         97.5, 111. , 139.5, 143. ,  59.5,  82.5, 147.5],\n",
       "       [ 40. , 111. , 201. , 113. ,  46.5, 102.5,  65.5,  42.5,  92.5,\n",
       "        160. , 133. ,  98.5,  74.5, 105.5,  49. ,  39. ],\n",
       "       [ 57.5,  63.5,  74.5,  71.5,  63.5,  57.5,  66. ,  53. ,  74. ,\n",
       "         59.5,  82. ,  74. ,  70. ,  56. ,  97. ,  96.5],\n",
       "       [ 25. ,  69. ,  58. , 119.5,  70. ,  51.5,  61.5,  46.5,  60. ,\n",
       "         64.5,  42.5,  70. ,  29. ,  57. ,  53. ,  51. ],\n",
       "       [ 75.5,  59.5,  47.5,  51. ,  78. ,  48. ,  70. ,  53. ,  95.5,\n",
       "         94.5,  77.5,  44.5,  47.5,  58.5,  67. ,  69.5],\n",
       "       [ 59.5,  67.5,  64.5,  40. ,  73. ,  48.5,  71.5,  79.5, 114. ,\n",
       "         53. ,  56. ,  94. ,  59. ,  65. ,  68. ,  55. ],\n",
       "       [ 60.5,  39.5, 105. ,  96. ,  91.5,  61.5,  72.5, 101.5, 102. ,\n",
       "         82. ,  50.5,  90.5,  62. , 141. ,  74.5,  61. ],\n",
       "       [ 84. ,  70.5,  74. ,  61. ,  85. ,  36.5,  94.5, 107.5,  46. ,\n",
       "         69.5,  70.5,  66.5,  71. ,  62. ,  71. ,  60.5],\n",
       "       [ 80.5,  63.5,  89. ,  75. ,  68. , 100.5,  61. , 114. ,  70. ,\n",
       "         63.5,  74.5,  84.5,  96.5,  85. ,  58.5,  25. ],\n",
       "       [ 67. ,  59. , 111. , 106.5,  83. , 107.5,  44.5,  55. ,  51. ,\n",
       "         73. ,  61.5,  52.5,  52.5,  73.5,  67.5,  58. ],\n",
       "       [198.5, 172.5, 185.5, 173.5, 175. , 198. , 175.5, 186. , 193. ,\n",
       "        188. , 202.5, 192.5, 190.5, 196. , 184.5, 173. ],\n",
       "       [174. , 169.5, 177. , 186. , 186. , 190.5, 182.5, 186. , 205. ,\n",
       "        191. , 188.5, 204.5, 191.5, 192. , 196. , 188.5],\n",
       "       [161. , 148.5, 159. , 177.5, 153. , 168. , 158.5, 129. , 165.5,\n",
       "        201.5, 163. , 167.5, 153.5, 149. , 151. , 165.5],\n",
       "       [196.5, 172.5, 151. , 159.5, 116. , 148.5, 150. , 197. , 158. ,\n",
       "        214.5, 143. , 179.5, 140. ,  81.5, 124.5, 178. ]])"
      ]
     },
     "execution_count": 22,
     "metadata": {},
     "output_type": "execute_result"
    }
   ],
   "source": [
    "CA = coeffs[0]\n",
    "CA"
   ]
  },
  {
   "cell_type": "code",
   "execution_count": null,
   "id": "094ba8f5",
   "metadata": {},
   "outputs": [],
   "source": []
  }
 ],
 "metadata": {
  "kernelspec": {
   "display_name": "Python 3 (ipykernel)",
   "language": "python",
   "name": "python3"
  },
  "language_info": {
   "codemirror_mode": {
    "name": "ipython",
    "version": 3
   },
   "file_extension": ".py",
   "mimetype": "text/x-python",
   "name": "python",
   "nbconvert_exporter": "python",
   "pygments_lexer": "ipython3",
   "version": "3.9.15"
  }
 },
 "nbformat": 4,
 "nbformat_minor": 5
}
